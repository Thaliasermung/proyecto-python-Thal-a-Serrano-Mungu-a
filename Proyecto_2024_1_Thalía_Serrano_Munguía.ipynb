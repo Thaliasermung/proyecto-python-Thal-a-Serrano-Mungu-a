{
  "cells": [
    {
      "cell_type": "markdown",
      "metadata": {
        "id": "SG_1nU0-FU8K"
      },
      "source": [
        "#**Explora, pre-procesa y analiza un conjunto de datos reales.**"
      ]
    },
    {
      "cell_type": "markdown",
      "metadata": {
        "id": "O8AOBXGXFz4o"
      },
      "source": [
        "#Objetivos\n",
        "\n",
        "1. Importar un conjunto de datos.\n",
        "2. Prepararlos para análisis.\n",
        "3. Analizar y extraer carácteristicas específicas de los datos.\n",
        "4. Generar gráficas para visualizar los resultados."
      ]
    },
    {
      "cell_type": "markdown",
      "metadata": {
        "id": "Mp2Ls84QGPup"
      },
      "source": [
        "Fuente de Datos: [International migration flows to and from selected countries - The 2015 revision](https://www.un.org/development/desa/pd/data/international-migration-flows).\n",
        "\n",
        "Los datos son registros de la Organización de las Naciones Unidas de flujos migratorios internacionales. En estos datos se registran las entradas como las salidas de los viajeros incluyendo lugar de nacimiento, ciudadanía o lugar de residencia anterior/siguiente tanto para extranjeros como para nacionales. El link anterior contiene datos pertenecientes a 45 países.\n",
        "\n",
        "Para este proyecto, nos centraremos únicamente en inmigración canadiense.\n",
        "\n",
        "![Data Preview](https://cf-courses-data.s3.us.cloud-object-storage.appdomain.cloud/IBMDeveloperSkillsNetwork-DV0101EN-SkillsNetwork/labs/Module%201/images/DataSnapshot.png)\n",
        "\n",
        "El conjunto de datos de inmigración de Canadá se puede obtener de <a href=\"https://cf-courses-data.s3.us.cloud-object-storage.appdomain.cloud/IBMDeveloperSkillsNetwork-DV0101EN-SkillsNetwork/Data%20Files/Canada.xlsx\">aquí</a>."
      ]
    },
    {
      "cell_type": "code",
      "execution_count": 2,
      "metadata": {
        "id": "KNWdcE-uG2-A"
      },
      "outputs": [],
      "source": [
        "#Iniciaremos importando las librerías que vamos a utilizar\n",
        "import numpy as np\n",
        "import pandas as pd"
      ]
    },
    {
      "cell_type": "code",
      "execution_count": 3,
      "metadata": {
        "colab": {
          "base_uri": "https://localhost:8080/",
          "height": 73
        },
        "id": "vooLMJ1WDui_",
        "outputId": "36a8b9f0-5bdf-4fa3-aa56-4e5b0dd1afb2"
      },
      "outputs": [
        {
          "output_type": "display_data",
          "data": {
            "text/plain": [
              "<IPython.core.display.HTML object>"
            ],
            "text/html": [
              "\n",
              "     <input type=\"file\" id=\"files-d1fad61b-dfdd-4243-be67-6702f00a0140\" name=\"files[]\" multiple disabled\n",
              "        style=\"border:none\" />\n",
              "     <output id=\"result-d1fad61b-dfdd-4243-be67-6702f00a0140\">\n",
              "      Upload widget is only available when the cell has been executed in the\n",
              "      current browser session. Please rerun this cell to enable.\n",
              "      </output>\n",
              "      <script>// Copyright 2017 Google LLC\n",
              "//\n",
              "// Licensed under the Apache License, Version 2.0 (the \"License\");\n",
              "// you may not use this file except in compliance with the License.\n",
              "// You may obtain a copy of the License at\n",
              "//\n",
              "//      http://www.apache.org/licenses/LICENSE-2.0\n",
              "//\n",
              "// Unless required by applicable law or agreed to in writing, software\n",
              "// distributed under the License is distributed on an \"AS IS\" BASIS,\n",
              "// WITHOUT WARRANTIES OR CONDITIONS OF ANY KIND, either express or implied.\n",
              "// See the License for the specific language governing permissions and\n",
              "// limitations under the License.\n",
              "\n",
              "/**\n",
              " * @fileoverview Helpers for google.colab Python module.\n",
              " */\n",
              "(function(scope) {\n",
              "function span(text, styleAttributes = {}) {\n",
              "  const element = document.createElement('span');\n",
              "  element.textContent = text;\n",
              "  for (const key of Object.keys(styleAttributes)) {\n",
              "    element.style[key] = styleAttributes[key];\n",
              "  }\n",
              "  return element;\n",
              "}\n",
              "\n",
              "// Max number of bytes which will be uploaded at a time.\n",
              "const MAX_PAYLOAD_SIZE = 100 * 1024;\n",
              "\n",
              "function _uploadFiles(inputId, outputId) {\n",
              "  const steps = uploadFilesStep(inputId, outputId);\n",
              "  const outputElement = document.getElementById(outputId);\n",
              "  // Cache steps on the outputElement to make it available for the next call\n",
              "  // to uploadFilesContinue from Python.\n",
              "  outputElement.steps = steps;\n",
              "\n",
              "  return _uploadFilesContinue(outputId);\n",
              "}\n",
              "\n",
              "// This is roughly an async generator (not supported in the browser yet),\n",
              "// where there are multiple asynchronous steps and the Python side is going\n",
              "// to poll for completion of each step.\n",
              "// This uses a Promise to block the python side on completion of each step,\n",
              "// then passes the result of the previous step as the input to the next step.\n",
              "function _uploadFilesContinue(outputId) {\n",
              "  const outputElement = document.getElementById(outputId);\n",
              "  const steps = outputElement.steps;\n",
              "\n",
              "  const next = steps.next(outputElement.lastPromiseValue);\n",
              "  return Promise.resolve(next.value.promise).then((value) => {\n",
              "    // Cache the last promise value to make it available to the next\n",
              "    // step of the generator.\n",
              "    outputElement.lastPromiseValue = value;\n",
              "    return next.value.response;\n",
              "  });\n",
              "}\n",
              "\n",
              "/**\n",
              " * Generator function which is called between each async step of the upload\n",
              " * process.\n",
              " * @param {string} inputId Element ID of the input file picker element.\n",
              " * @param {string} outputId Element ID of the output display.\n",
              " * @return {!Iterable<!Object>} Iterable of next steps.\n",
              " */\n",
              "function* uploadFilesStep(inputId, outputId) {\n",
              "  const inputElement = document.getElementById(inputId);\n",
              "  inputElement.disabled = false;\n",
              "\n",
              "  const outputElement = document.getElementById(outputId);\n",
              "  outputElement.innerHTML = '';\n",
              "\n",
              "  const pickedPromise = new Promise((resolve) => {\n",
              "    inputElement.addEventListener('change', (e) => {\n",
              "      resolve(e.target.files);\n",
              "    });\n",
              "  });\n",
              "\n",
              "  const cancel = document.createElement('button');\n",
              "  inputElement.parentElement.appendChild(cancel);\n",
              "  cancel.textContent = 'Cancel upload';\n",
              "  const cancelPromise = new Promise((resolve) => {\n",
              "    cancel.onclick = () => {\n",
              "      resolve(null);\n",
              "    };\n",
              "  });\n",
              "\n",
              "  // Wait for the user to pick the files.\n",
              "  const files = yield {\n",
              "    promise: Promise.race([pickedPromise, cancelPromise]),\n",
              "    response: {\n",
              "      action: 'starting',\n",
              "    }\n",
              "  };\n",
              "\n",
              "  cancel.remove();\n",
              "\n",
              "  // Disable the input element since further picks are not allowed.\n",
              "  inputElement.disabled = true;\n",
              "\n",
              "  if (!files) {\n",
              "    return {\n",
              "      response: {\n",
              "        action: 'complete',\n",
              "      }\n",
              "    };\n",
              "  }\n",
              "\n",
              "  for (const file of files) {\n",
              "    const li = document.createElement('li');\n",
              "    li.append(span(file.name, {fontWeight: 'bold'}));\n",
              "    li.append(span(\n",
              "        `(${file.type || 'n/a'}) - ${file.size} bytes, ` +\n",
              "        `last modified: ${\n",
              "            file.lastModifiedDate ? file.lastModifiedDate.toLocaleDateString() :\n",
              "                                    'n/a'} - `));\n",
              "    const percent = span('0% done');\n",
              "    li.appendChild(percent);\n",
              "\n",
              "    outputElement.appendChild(li);\n",
              "\n",
              "    const fileDataPromise = new Promise((resolve) => {\n",
              "      const reader = new FileReader();\n",
              "      reader.onload = (e) => {\n",
              "        resolve(e.target.result);\n",
              "      };\n",
              "      reader.readAsArrayBuffer(file);\n",
              "    });\n",
              "    // Wait for the data to be ready.\n",
              "    let fileData = yield {\n",
              "      promise: fileDataPromise,\n",
              "      response: {\n",
              "        action: 'continue',\n",
              "      }\n",
              "    };\n",
              "\n",
              "    // Use a chunked sending to avoid message size limits. See b/62115660.\n",
              "    let position = 0;\n",
              "    do {\n",
              "      const length = Math.min(fileData.byteLength - position, MAX_PAYLOAD_SIZE);\n",
              "      const chunk = new Uint8Array(fileData, position, length);\n",
              "      position += length;\n",
              "\n",
              "      const base64 = btoa(String.fromCharCode.apply(null, chunk));\n",
              "      yield {\n",
              "        response: {\n",
              "          action: 'append',\n",
              "          file: file.name,\n",
              "          data: base64,\n",
              "        },\n",
              "      };\n",
              "\n",
              "      let percentDone = fileData.byteLength === 0 ?\n",
              "          100 :\n",
              "          Math.round((position / fileData.byteLength) * 100);\n",
              "      percent.textContent = `${percentDone}% done`;\n",
              "\n",
              "    } while (position < fileData.byteLength);\n",
              "  }\n",
              "\n",
              "  // All done.\n",
              "  yield {\n",
              "    response: {\n",
              "      action: 'complete',\n",
              "    }\n",
              "  };\n",
              "}\n",
              "\n",
              "scope.google = scope.google || {};\n",
              "scope.google.colab = scope.google.colab || {};\n",
              "scope.google.colab._files = {\n",
              "  _uploadFiles,\n",
              "  _uploadFilesContinue,\n",
              "};\n",
              "})(self);\n",
              "</script> "
            ]
          },
          "metadata": {}
        },
        {
          "output_type": "stream",
          "name": "stdout",
          "text": [
            "Saving Canada.xlsx to Canada.xlsx\n"
          ]
        }
      ],
      "source": [
        "from google.colab import files #Importamos el archivo de excel\n",
        "\n",
        "uploaded = files.upload()"
      ]
    },
    {
      "cell_type": "code",
      "execution_count": 4,
      "metadata": {
        "colab": {
          "base_uri": "https://localhost:8080/"
        },
        "id": "G9wCnd_V_3w6",
        "outputId": "3580feb4-a752-471e-b544-62aceeeade8e"
      },
      "outputs": [
        {
          "output_type": "stream",
          "name": "stdout",
          "text": [
            "Dataframe ready!\n"
          ]
        }
      ],
      "source": [
        "#Utilizamos el alias de pandas para extraer un achivo en excel\n",
        "df_can= pd.read_excel(\n",
        "    'Canada.xlsx',\n",
        "    sheet_name='Canada by Citizenship',\n",
        "    skiprows=range(20),\n",
        "    skipfooter=2)\n",
        "\n",
        "print('Dataframe ready!')"
      ]
    },
    {
      "cell_type": "markdown",
      "metadata": {
        "id": "lE84MzbzGdfN"
      },
      "source": [
        "#**Ejercicio número 1**\n",
        "\n",
        "1. A partir del dataframe `df_can` crea un nuevo dataframe que contenga los campos:\n",
        "\n",
        "  a. Country\n",
        "\n",
        "  b. Continent\n",
        "\n",
        "  c. Años del 2001 a 2010\n",
        "\n",
        "2. Crea una lista que contenga los datos de la columna Country\n",
        "\n",
        "3. Crea una lista para cada uno de los años del 2001 al 2010\n",
        "\n",
        "4. Crea una nueva lista que sume las listas anteriores elemento por elemento"
      ]
    },
    {
      "cell_type": "code",
      "execution_count": 6,
      "metadata": {
        "id": "oUBYDwklJOLl"
      },
      "outputs": [],
      "source": [
        "# Código para el ejercicio 1"
      ]
    },
    {
      "cell_type": "code",
      "execution_count": 7,
      "metadata": {
        "colab": {
          "base_uri": "https://localhost:8080/"
        },
        "id": "V9DTM0hTZ4bY",
        "outputId": "33efc5e3-e855-4fc7-d4f5-e9b4f1aa7ffa"
      },
      "outputs": [
        {
          "output_type": "execute_result",
          "data": {
            "text/plain": [
              "['Type',\n",
              " 'Coverage',\n",
              " 'OdName',\n",
              " 'AREA',\n",
              " 'AreaName',\n",
              " 'REG',\n",
              " 'RegName',\n",
              " 'DEV',\n",
              " 'DevName',\n",
              " '1980',\n",
              " '1981',\n",
              " '1982',\n",
              " '1983',\n",
              " '1984',\n",
              " '1985',\n",
              " '1986',\n",
              " '1987',\n",
              " '1988',\n",
              " '1989',\n",
              " '1990',\n",
              " '1991',\n",
              " '1992',\n",
              " '1993',\n",
              " '1994',\n",
              " '1995',\n",
              " '1996',\n",
              " '1997',\n",
              " '1998',\n",
              " '1999',\n",
              " '2000',\n",
              " '2001',\n",
              " '2002',\n",
              " '2003',\n",
              " '2004',\n",
              " '2005',\n",
              " '2006',\n",
              " '2007',\n",
              " '2008',\n",
              " '2009',\n",
              " '2010',\n",
              " '2011',\n",
              " '2012',\n",
              " '2013']"
            ]
          },
          "metadata": {},
          "execution_count": 7
        }
      ],
      "source": [
        "#Para obtener las columnas como listas, podemos usar el método tolist().\n",
        "df_can.columns.tolist()\n",
        "#Cambiemos los nombres de las columnas de tipo entero a texto\n",
        "df_can.columns = list(map(str, df_can.columns))\n",
        "df_can.columns.tolist()"
      ]
    },
    {
      "cell_type": "code",
      "execution_count": 22,
      "metadata": {
        "colab": {
          "base_uri": "https://localhost:8080/"
        },
        "id": "N2SZsT5SY4ZI",
        "outputId": "a31a6888-9fda-4015-af2a-3cb1feaa1fa1"
      },
      "outputs": [
        {
          "output_type": "stream",
          "name": "stdout",
          "text": [
            "Index(['Type', 'Coverage', 'Country', 'AREA', 'Continent', 'REG', 'RegName',\n",
            "       'DEV', 'DevName', '1980', '1981', '1982', '1983', '1984', '1985',\n",
            "       '1986', '1987', '1988', '1989', '1990', '1991', '1992', '1993', '1994',\n",
            "       '1995', '1996', '1997', '1998', '1999', '2000', '2001', '2002', '2003',\n",
            "       '2004', '2005', '2006', '2007', '2008', '2009', '2010', '2011', '2012',\n",
            "       '2013'],\n",
            "      dtype='object')\n"
          ]
        }
      ],
      "source": [
        "# Renombrar las columnas 'OdName' y 'AreaName' a 'Country' y 'Continent'\n",
        "df_can.rename(columns={'OdName':'Country', 'AreaName':'Continent'}, inplace=True)\n",
        "print(df_can.columns)"
      ]
    },
    {
      "cell_type": "code",
      "execution_count": 23,
      "metadata": {
        "colab": {
          "base_uri": "https://localhost:8080/"
        },
        "id": "3o0Neis8Ewiq",
        "outputId": "8d103e74-88ec-4563-c9cd-b2f5ea311111"
      },
      "outputs": [
        {
          "output_type": "stream",
          "name": "stdout",
          "text": [
            "            Country Continent  2001  2002  2003  2004  2005  2006  2007  2008  \\\n",
            "0       Afghanistan      Asia  4067  3697  3479  2978  3436  3009  2652  2111   \n",
            "1           Albania    Europe  1602  1021   853  1450  1223   856   702   560   \n",
            "2           Algeria    Africa  3418  3406  3072  3616  3626  4807  3623  4005   \n",
            "3    American Samoa   Oceania     0     0     0     0     0     1     0     0   \n",
            "4           Andorra    Europe     1     0     2     0     0     1     1     0   \n",
            "..              ...       ...   ...   ...   ...   ...   ...   ...   ...   ...   \n",
            "190        Viet Nam      Asia  2117  2291  1713  1816  1852  3153  2574  1784   \n",
            "191  Western Sahara    Africa     0     0     0     0     0     1     0     0   \n",
            "192           Yemen      Asia   181   171   113   124   161   140   122   133   \n",
            "193          Zambia    Africa    78    50    46    56    91    77    71    64   \n",
            "194        Zimbabwe    Africa   110   191   669  1450   615   454   663   611   \n",
            "\n",
            "     2009  2010  \n",
            "0    1746  1758  \n",
            "1     716   561  \n",
            "2    5393  4752  \n",
            "3       0     0  \n",
            "4       0     0  \n",
            "..    ...   ...  \n",
            "190  2171  1942  \n",
            "191     0     0  \n",
            "192   128   211  \n",
            "193    60   102  \n",
            "194   508   494  \n",
            "\n",
            "[195 rows x 12 columns]\n"
          ]
        }
      ],
      "source": [
        "#Seleccionar las columnas \"Country\", \"Continent\" y los años del 2001 al 2010\n",
        "columnas_deseadas = ['Country', 'Continent', '2001', '2002', '2003', '2004', '2005', '2006', '2007', '2008', '2009', '2010']\n",
        "nuevo_df = df_can[columnas_deseadas]\n",
        "print (nuevo_df)"
      ]
    },
    {
      "cell_type": "code",
      "execution_count": 24,
      "metadata": {
        "colab": {
          "base_uri": "https://localhost:8080/"
        },
        "id": "nFtOluBKE8RN",
        "outputId": "aad7dee8-c378-4d8e-c78c-4327a9e57e74"
      },
      "outputs": [
        {
          "output_type": "stream",
          "name": "stdout",
          "text": [
            "['Afghanistan', 'Albania', 'Algeria', 'American Samoa', 'Andorra', 'Angola', 'Antigua and Barbuda', 'Argentina', 'Armenia', 'Australia', 'Austria', 'Azerbaijan', 'Bahamas', 'Bahrain', 'Bangladesh', 'Barbados', 'Belarus', 'Belgium', 'Belize', 'Benin', 'Bhutan', 'Bolivia (Plurinational State of)', 'Bosnia and Herzegovina', 'Botswana', 'Brazil', 'Brunei Darussalam', 'Bulgaria', 'Burkina Faso', 'Burundi', 'Cabo Verde', 'Cambodia', 'Cameroon', 'Canada', 'Central African Republic', 'Chad', 'Chile', 'China', 'China, Hong Kong Special Administrative Region', 'China, Macao Special Administrative Region', 'Colombia', 'Comoros', 'Congo', 'Costa Rica', \"Côte d'Ivoire\", 'Croatia', 'Cuba', 'Cyprus', 'Czech Republic', \"Democratic People's Republic of Korea\", 'Democratic Republic of the Congo', 'Denmark', 'Djibouti', 'Dominica', 'Dominican Republic', 'Ecuador', 'Egypt', 'El Salvador', 'Equatorial Guinea', 'Eritrea', 'Estonia', 'Ethiopia', 'Fiji', 'Finland', 'France', 'Gabon', 'Gambia', 'Georgia', 'Germany', 'Ghana', 'Greece', 'Grenada', 'Guatemala', 'Guinea', 'Guinea-Bissau', 'Guyana', 'Haiti', 'Honduras', 'Hungary', 'Iceland', 'India', 'Indonesia', 'Iran (Islamic Republic of)', 'Iraq', 'Ireland', 'Israel', 'Italy', 'Jamaica', 'Japan', 'Jordan', 'Kazakhstan', 'Kenya', 'Kiribati', 'Kuwait', 'Kyrgyzstan', \"Lao People's Democratic Republic\", 'Latvia', 'Lebanon', 'Lesotho', 'Liberia', 'Libya', 'Liechtenstein', 'Lithuania', 'Luxembourg', 'Madagascar', 'Malawi', 'Malaysia', 'Maldives', 'Mali', 'Malta', 'Marshall Islands', 'Mauritania', 'Mauritius', 'Mexico', 'Monaco', 'Mongolia', 'Montenegro', 'Morocco', 'Mozambique', 'Myanmar', 'Namibia', 'Nauru', 'Nepal', 'Netherlands', 'New Caledonia', 'New Zealand', 'Nicaragua', 'Niger', 'Nigeria', 'Norway', 'Oman', 'Pakistan', 'Palau', 'Panama', 'Papua New Guinea', 'Paraguay', 'Peru', 'Philippines', 'Poland', 'Portugal', 'Qatar', 'Republic of Korea', 'Republic of Moldova', 'Romania', 'Russian Federation', 'Rwanda', 'Saint Kitts and Nevis', 'Saint Lucia', 'Saint Vincent and the Grenadines', 'Samoa', 'San Marino', 'Sao Tome and Principe', 'Saudi Arabia', 'Senegal', 'Serbia', 'Seychelles', 'Sierra Leone', 'Singapore', 'Slovakia', 'Slovenia', 'Somalia', 'South Africa', 'Spain', 'Sri Lanka', 'State of Palestine', 'Sudan', 'Suriname', 'Swaziland', 'Sweden', 'Switzerland', 'Syrian Arab Republic', 'Tajikistan', 'Thailand', 'The former Yugoslav Republic of Macedonia', 'Togo', 'Tonga', 'Trinidad and Tobago', 'Tunisia', 'Turkey', 'Turkmenistan', 'Tuvalu', 'Uganda', 'Ukraine', 'United Arab Emirates', 'United Kingdom of Great Britain and Northern Ireland', 'United Republic of Tanzania', 'United States of America', 'Uruguay', 'Uzbekistan', 'Vanuatu', 'Venezuela (Bolivarian Republic of)', 'Viet Nam', 'Western Sahara', 'Yemen', 'Zambia', 'Zimbabwe']\n"
          ]
        }
      ],
      "source": [
        "#Crear una lista que contenga los datos de la columna \"Country\"\n",
        "lista_paises = nuevo_df['Country'].tolist()\n",
        "print (lista_paises)"
      ]
    },
    {
      "cell_type": "code",
      "execution_count": 25,
      "metadata": {
        "colab": {
          "base_uri": "https://localhost:8080/"
        },
        "id": "hPuG-lQA5Jw2",
        "outputId": "f741ea8f-97a8-4517-c25b-e922a12892b1"
      },
      "outputs": [
        {
          "output_type": "stream",
          "name": "stdout",
          "text": [
            "Lista para el año 2001: [4067, 1602, 3418, 0, 1, 169, 25, 635, 87, 799, 134, 98, 20, 13, 3831, 148, 430, 340, 24, 66, 6, 72, 801, 2, 847, 3, 1283, 46, 334, 5, 259, 206, 0, 6, 90, 369, 36434, 379, 15, 2965, 14, 106, 134, 143, 376, 950, 22, 290, 8, 1248, 81, 96, 82, 264, 353, 2595, 453, 1, 221, 30, 1062, 643, 53, 3806, 26, 22, 124, 1456, 782, 135, 354, 269, 177, 3, 1707, 2433, 180, 627, 26, 31223, 907, 6169, 2821, 190, 2436, 410, 2838, 1092, 1904, 501, 651, 1, 107, 95, 40, 175, 2578, 0, 60, 228, 2, 183, 5, 57, 5, 460, 0, 67, 24, 0, 30, 393, 1939, 1, 17, 0, 4067, 2, 113, 9, 3, 272, 806, 1, 360, 108, 23, 1426, 78, 12, 16708, 0, 50, 2, 34, 849, 13836, 1601, 531, 21, 9619, 513, 5652, 4351, 286, 11, 116, 288, 2, 0, 0, 98, 129, 0, 9, 386, 473, 585, 22, 1155, 1899, 79, 5861, 343, 1105, 22, 2, 184, 383, 1067, 20, 309, 291, 94, 6, 904, 788, 1184, 10, 0, 94, 3514, 41, 11728, 301, 5604, 64, 102, 1, 560, 2117, 0, 181, 78, 110]\n",
            "Lista para el año 2002: [3697, 1021, 3406, 0, 0, 168, 17, 865, 132, 747, 87, 186, 17, 17, 2944, 122, 435, 307, 35, 71, 8, 57, 433, 4, 745, 4, 1517, 37, 364, 2, 230, 222, 0, 20, 76, 401, 31961, 430, 28, 3283, 2, 84, 106, 184, 304, 872, 13, 226, 11, 1103, 70, 62, 62, 202, 418, 2039, 473, 2, 176, 38, 818, 611, 59, 3463, 24, 10, 123, 1375, 696, 107, 259, 242, 205, 2, 1479, 2174, 143, 537, 11, 31889, 709, 8129, 2432, 178, 2539, 374, 2524, 806, 1499, 418, 630, 0, 74, 124, 49, 156, 2332, 2, 57, 210, 0, 125, 17, 59, 7, 480, 1, 62, 16, 0, 27, 348, 1894, 1, 20, 0, 4174, 5, 164, 10, 2, 363, 676, 0, 321, 69, 30, 1403, 74, 7, 15110, 0, 48, 0, 60, 855, 11707, 1447, 364, 4, 7342, 612, 5765, 3941, 215, 8, 82, 240, 2, 0, 0, 71, 165, 0, 4, 412, 588, 615, 16, 730, 1498, 87, 5279, 266, 1489, 22, 1, 149, 276, 956, 9, 547, 353, 105, 2, 928, 661, 1301, 11, 0, 90, 3520, 37, 8046, 298, 4948, 91, 144, 0, 524, 2291, 0, 171, 50, 191]\n",
            "Lista para el año 2003: [3479, 853, 3072, 0, 2, 165, 25, 1745, 153, 876, 113, 167, 14, 15, 2137, 74, 435, 320, 16, 78, 7, 59, 267, 4, 839, 6, 1507, 34, 383, 13, 277, 301, 0, 10, 64, 347, 36439, 446, 21, 4318, 11, 112, 105, 119, 177, 877, 17, 181, 18, 1233, 89, 43, 65, 234, 361, 2230, 446, 2, 262, 56, 1399, 561, 65, 3568, 42, 10, 127, 1865, 564, 117, 222, 179, 196, 6, 1410, 1930, 105, 489, 17, 27155, 515, 5918, 1515, 192, 2314, 321, 2054, 817, 1614, 542, 678, 0, 72, 99, 22, 110, 3179, 2, 139, 153, 1, 194, 9, 48, 3, 419, 0, 72, 28, 0, 23, 566, 1754, 1, 28, 1, 3369, 3, 263, 7, 4, 313, 617, 1, 345, 88, 30, 1064, 77, 11, 13205, 0, 54, 4, 88, 1023, 12758, 1394, 329, 4, 7117, 592, 5541, 3718, 290, 12, 89, 199, 3, 1, 0, 70, 171, 0, 13, 391, 391, 501, 18, 957, 1245, 89, 4892, 323, 1862, 22, 0, 161, 346, 1085, 7, 439, 638, 106, 5, 707, 669, 1338, 22, 0, 117, 2759, 32, 6797, 320, 5543, 103, 155, 1, 699, 1713, 0, 113, 46, 669]\n",
            "Lista para el año 2004: [2978, 1450, 3616, 0, 0, 268, 14, 1591, 147, 930, 118, 230, 13, 12, 2660, 90, 543, 411, 25, 112, 1, 85, 188, 9, 917, 3, 2022, 97, 559, 3, 348, 436, 0, 13, 92, 383, 36619, 536, 21, 4566, 6, 142, 165, 256, 151, 866, 11, 191, 15, 1465, 89, 67, 50, 270, 417, 2393, 442, 2, 414, 27, 1535, 495, 54, 4391, 33, 10, 106, 2020, 738, 120, 296, 217, 281, 4, 1341, 1652, 133, 671, 23, 28235, 552, 6348, 1796, 244, 2788, 334, 2237, 973, 1733, 545, 685, 0, 74, 245, 38, 94, 3293, 2, 409, 196, 0, 220, 9, 79, 17, 401, 1, 87, 28, 0, 60, 702, 2259, 1, 34, 0, 3686, 8, 191, 9, 1, 404, 749, 0, 350, 67, 38, 1518, 73, 12, 13399, 0, 38, 1, 74, 1460, 14004, 1533, 336, 5, 5352, 628, 5755, 3989, 299, 8, 110, 294, 3, 0, 1, 128, 210, 0, 15, 347, 311, 597, 17, 1364, 1175, 133, 4495, 376, 1823, 17, 8, 129, 337, 1116, 14, 392, 443, 163, 5, 730, 764, 1736, 16, 2, 160, 2431, 41, 7533, 310, 6990, 130, 175, 1, 1224, 1816, 0, 124, 56, 1450]\n",
            "Lista para el año 2005: [3436, 1223, 3626, 0, 0, 295, 24, 1153, 224, 909, 122, 359, 14, 12, 4171, 111, 558, 400, 37, 95, 5, 134, 211, 7, 969, 4, 1738, 91, 626, 5, 370, 604, 0, 49, 126, 384, 42584, 729, 21, 6424, 5, 136, 188, 294, 128, 999, 7, 193, 14, 1521, 62, 93, 59, 303, 491, 2496, 436, 3, 528, 26, 1506, 298, 67, 4429, 67, 29, 114, 2226, 851, 100, 283, 190, 256, 7, 1215, 1682, 166, 516, 10, 36210, 632, 5837, 2226, 224, 2446, 344, 1945, 1067, 1940, 506, 693, 1, 66, 173, 42, 77, 3709, 4, 581, 196, 1, 167, 10, 88, 23, 593, 0, 87, 28, 0, 86, 696, 2837, 1, 59, 0, 2939, 5, 210, 6, 1, 607, 813, 0, 370, 79, 59, 2236, 57, 14, 14314, 0, 57, 1, 75, 1653, 18139, 1405, 338, 11, 5832, 655, 5048, 3972, 378, 11, 185, 343, 2, 0, 1, 198, 278, 0, 25, 191, 392, 369, 23, 1198, 988, 126, 4930, 453, 1310, 15, 7, 205, 270, 1458, 85, 575, 285, 157, 2, 857, 756, 2065, 40, 0, 239, 2270, 31, 7258, 274, 8394, 217, 330, 1, 1211, 1852, 0, 161, 91, 615]\n",
            "Lista para el año 2006: [3009, 856, 4807, 1, 1, 184, 32, 847, 218, 875, 102, 236, 18, 12, 4014, 97, 439, 302, 24, 116, 10, 139, 217, 11, 1181, 5, 1419, 147, 468, 7, 529, 697, 0, 18, 96, 427, 33518, 712, 32, 6535, 7, 143, 279, 431, 102, 1064, 9, 146, 10, 1623, 101, 68, 72, 295, 525, 2190, 430, 4, 700, 18, 1801, 277, 51, 4002, 68, 38, 125, 2767, 710, 74, 363, 230, 342, 12, 1286, 1619, 164, 520, 2, 33848, 613, 7480, 1788, 283, 2625, 325, 1722, 1212, 1827, 408, 622, 0, 35, 161, 74, 69, 3802, 0, 356, 281, 0, 113, 9, 96, 15, 580, 0, 114, 24, 0, 124, 512, 2844, 1, 64, 0, 3322, 9, 953, 19, 1, 540, 837, 0, 318, 96, 57, 2594, 53, 18, 13127, 0, 73, 0, 88, 1473, 18400, 1263, 424, 2, 6215, 803, 4468, 3117, 360, 3, 190, 383, 0, 0, 1, 252, 416, 3, 8, 138, 298, 241, 11, 1061, 1111, 124, 4714, 627, 1039, 16, 7, 139, 258, 1145, 46, 500, 256, 149, 0, 794, 1065, 1638, 26, 0, 201, 1973, 42, 7140, 291, 9613, 175, 262, 1, 1192, 3153, 1, 140, 77, 454]\n",
            "Lista para el año 2007: [2652, 702, 3623, 0, 1, 106, 15, 620, 198, 1033, 98, 203, 23, 22, 2897, 130, 568, 363, 28, 183, 7, 107, 209, 8, 1746, 11, 1172, 136, 614, 2, 460, 1025, 0, 30, 131, 530, 27642, 674, 16, 5357, 11, 87, 281, 619, 102, 1350, 4, 137, 7, 1466, 97, 50, 79, 311, 419, 2356, 929, 5, 699, 34, 1512, 304, 62, 4290, 101, 32, 132, 2449, 688, 110, 360, 258, 415, 7, 1277, 1598, 165, 425, 15, 28742, 657, 6974, 2406, 300, 2401, 320, 2141, 1250, 1421, 436, 449, 0, 62, 135, 53, 88, 3467, 4, 153, 198, 0, 108, 9, 115, 13, 600, 2, 143, 7, 2, 96, 507, 3239, 1, 82, 7, 4021, 5, 1887, 13, 0, 511, 615, 0, 350, 76, 75, 2375, 73, 16, 10124, 1, 63, 0, 98, 1490, 19837, 1235, 405, 5, 5920, 1099, 3834, 2983, 420, 10, 255, 579, 1, 0, 0, 188, 433, 50, 9, 92, 690, 215, 29, 1166, 1200, 137, 4123, 441, 683, 20, 5, 193, 308, 1056, 44, 487, 211, 235, 1, 975, 869, 1463, 37, 1, 170, 2218, 37, 8216, 195, 9463, 147, 284, 0, 1335, 2574, 0, 122, 71, 663]\n",
            "Lista para el año 2008: [2111, 560, 4005, 0, 0, 76, 32, 540, 205, 1018, 91, 125, 30, 9, 2939, 134, 524, 335, 48, 205, 36, 143, 182, 28, 2138, 10, 994, 139, 448, 5, 354, 1279, 0, 28, 95, 350, 30037, 897, 12, 5452, 3, 72, 246, 646, 131, 1300, 7, 104, 19, 1397, 108, 47, 60, 438, 437, 3347, 1115, 1, 799, 34, 1613, 321, 89, 4532, 86, 25, 112, 3833, 629, 107, 284, 263, 327, 2, 1137, 2491, 187, 383, 13, 28261, 661, 6475, 3543, 412, 2562, 370, 2334, 1284, 1581, 394, 453, 1, 53, 168, 32, 67, 3566, 1, 74, 306, 1, 109, 3, 118, 5, 658, 1, 154, 21, 0, 112, 714, 2856, 0, 59, 19, 4226, 5, 975, 26, 0, 581, 818, 1, 480, 124, 75, 2109, 66, 10, 8994, 0, 52, 9, 95, 1094, 24887, 1267, 665, 9, 7294, 1127, 2837, 2690, 358, 25, 298, 434, 4, 0, 0, 249, 555, 259, 18, 103, 734, 125, 18, 1015, 1123, 169, 4756, 481, 622, 9, 6, 165, 357, 919, 15, 519, 191, 351, 0, 1002, 950, 1122, 13, 0, 204, 1937, 33, 8979, 230, 10190, 160, 215, 0, 1239, 1784, 0, 133, 64, 611]\n",
            "Lista para el año 2009: [1746, 716, 5393, 0, 0, 62, 38, 467, 267, 1018, 109, 165, 27, 35, 2104, 125, 454, 358, 38, 238, 865, 214, 156, 15, 2509, 5, 784, 162, 566, 1, 203, 1344, 0, 19, 87, 375, 29622, 657, 21, 4652, 19, 70, 217, 668, 92, 1433, 6, 159, 11, 1581, 81, 70, 59, 391, 373, 3496, 845, 5, 904, 26, 1289, 311, 63, 5051, 86, 10, 128, 3887, 659, 119, 325, 264, 347, 0, 1180, 2080, 169, 312, 15, 29456, 504, 6580, 5450, 395, 2316, 429, 2456, 1194, 1235, 431, 489, 1, 68, 173, 39, 85, 3077, 8, 94, 282, 1, 63, 5, 169, 10, 640, 7, 164, 18, 0, 83, 872, 3092, 0, 118, 10, 5532, 12, 1153, 14, 1, 561, 786, 0, 520, 116, 82, 3156, 75, 7, 7217, 0, 73, 1, 88, 1884, 28573, 1013, 623, 6, 5874, 1535, 2076, 2931, 415, 11, 257, 511, 2, 0, 1, 246, 668, 365, 4, 70, 366, 128, 27, 1214, 1188, 195, 4547, 400, 422, 12, 10, 167, 328, 917, 50, 512, 198, 400, 5, 1134, 1195, 1238, 20, 0, 185, 2367, 37, 8876, 136, 8995, 99, 288, 1, 1353, 2171, 0, 128, 60, 508]\n",
            "Lista para el año 2010: [1758, 561, 4752, 0, 0, 61, 27, 459, 252, 933, 124, 209, 25, 28, 4721, 121, 438, 363, 39, 290, 1464, 180, 168, 42, 2598, 12, 556, 186, 529, 3, 200, 1800, 0, 26, 98, 340, 30391, 623, 21, 5218, 22, 75, 190, 1066, 91, 961, 18, 168, 45, 1239, 92, 123, 43, 479, 353, 5982, 787, 4, 931, 28, 1865, 398, 63, 4646, 64, 37, 126, 2956, 802, 101, 208, 266, 395, 2, 953, 4744, 386, 354, 30, 34235, 712, 7477, 5941, 547, 2755, 434, 2321, 1168, 1831, 377, 507, 0, 67, 157, 54, 70, 3432, 7, 162, 384, 0, 57, 8, 178, 28, 802, 4, 170, 17, 0, 74, 1455, 3865, 4, 169, 14, 6242, 7, 556, 16, 0, 1392, 759, 0, 490, 94, 80, 3906, 46, 14, 6811, 0, 65, 3, 89, 1283, 38617, 795, 629, 18, 5537, 1988, 1922, 2288, 396, 22, 249, 434, 5, 1, 2, 330, 765, 271, 10, 63, 805, 135, 12, 1528, 1238, 174, 4422, 654, 612, 13, 3, 159, 285, 1039, 52, 499, 188, 354, 5, 915, 1299, 1492, 30, 0, 216, 3159, 86, 8724, 200, 8142, 93, 289, 0, 998, 1942, 0, 211, 102, 494]\n"
          ]
        }
      ],
      "source": [
        "# Crear listas para cada año del 2001 al 2010 usando el dataframe nuevo_df\n",
        "lista_2001 = nuevo_df['2001'].tolist()\n",
        "lista_2002 = nuevo_df['2002'].tolist()\n",
        "lista_2003 = nuevo_df['2003'].tolist()\n",
        "lista_2004 = nuevo_df['2004'].tolist()\n",
        "lista_2005 = nuevo_df['2005'].tolist()\n",
        "lista_2006 = nuevo_df['2006'].tolist()\n",
        "lista_2007 = nuevo_df['2007'].tolist()\n",
        "lista_2008 = nuevo_df['2008'].tolist()\n",
        "lista_2009 = nuevo_df['2009'].tolist()\n",
        "lista_2010 = nuevo_df['2010'].tolist()\n",
        "# Imprimir las listas para cada año\n",
        "print(\"Lista para el año 2001:\", lista_2001)\n",
        "print(\"Lista para el año 2002:\", lista_2002)\n",
        "print(\"Lista para el año 2003:\", lista_2003)\n",
        "print(\"Lista para el año 2004:\", lista_2004)\n",
        "print(\"Lista para el año 2005:\", lista_2005)\n",
        "print(\"Lista para el año 2006:\", lista_2006)\n",
        "print(\"Lista para el año 2007:\", lista_2007)\n",
        "print(\"Lista para el año 2008:\", lista_2008)\n",
        "print(\"Lista para el año 2009:\", lista_2009)\n",
        "print(\"Lista para el año 2010:\", lista_2010)"
      ]
    },
    {
      "cell_type": "code",
      "execution_count": 26,
      "metadata": {
        "colab": {
          "base_uri": "https://localhost:8080/"
        },
        "id": "oIIUBEzr8gXB",
        "outputId": "26f5fb4d-97eb-4856-d864-c826950e76a6"
      },
      "outputs": [
        {
          "output_type": "stream",
          "name": "stdout",
          "text": [
            "[28933, 9544, 39718, 1, 5, 1554, 249, 8922, 1883, 9138, 1098, 1978, 201, 175, 32418, 1152, 4824, 3499, 314, 1454, 2409, 1190, 2832, 130, 14489, 63, 12992, 1075, 4891, 46, 3230, 7914, 0, 219, 955, 3906, 335247, 6083, 208, 48770, 100, 1027, 1911, 4426, 1654, 10672, 114, 1795, 158, 13876, 870, 719, 631, 3187, 4147, 29124, 6356, 29, 5634, 317, 14400, 4219, 626, 42178, 597, 223, 1217, 24834, 7119, 1090, 2954, 2378, 2941, 45, 12985, 22403, 1798, 4834, 162, 309254, 6462, 67387, 29918, 2965, 25182, 3661, 22572, 10863, 16585, 4558, 5857, 4, 678, 1530, 443, 991, 32435, 30, 2085, 2434, 6, 1339, 84, 1007, 126, 5633, 16, 1120, 211, 2, 715, 6765, 26579, 11, 650, 51, 41578, 61, 6465, 129, 13, 5544, 7476, 3, 3904, 917, 549, 21787, 672, 121, 119009, 1, 573, 21, 789, 13064, 200758, 12953, 4644, 85, 66102, 9552, 42898, 33980, 3417, 121, 1831, 3705, 24, 2, 6, 1830, 3790, 948, 115, 2193, 5048, 3511, 193, 11388, 12665, 1313, 48019, 4364, 10967, 168, 49, 1651, 3148, 10758, 342, 4779, 3054, 2114, 31, 8946, 9016, 14577, 225, 3, 1676, 26148, 417, 83297, 2555, 77882, 1279, 2244, 6, 10335, 21413, 1, 1484, 695, 5765]\n"
          ]
        }
      ],
      "source": [
        "#Crea una nueva lista que sume las listas anteriores elemento por elemento\n",
        "\n",
        "# Una lista de listas\n",
        "listas = [lista_2001, lista_2002, lista_2003, lista_2004, lista_2005, lista_2006, lista_2007, lista_2008, lista_2009, lista_2010]\n",
        "\n",
        "# Inicializar la lista total_años con la primera lista\n",
        "total_años = listas[0]\n",
        "\n",
        "for i in range(1, len(listas)):\n",
        "    for j in range(len(total_años)):\n",
        "        total_años[j] += listas[i][j]\n",
        "\n",
        "# Mostrar los elementos de la lista total_años\n",
        "print(total_años)"
      ]
    },
    {
      "cell_type": "markdown",
      "metadata": {
        "id": "NtuEWnZeJs88"
      },
      "source": [
        "#**Ejercicio número 2**\n",
        "\n",
        "De la lista nueva que creaste en el punto 4 del ejercicio 1, realiza lo siguiente:\n",
        "\n",
        "1. Crea un algoritmo que te permita ordenar de menor a mayor los valores que contiene la lista.\n",
        "\n",
        "2. Una vez ordenada la lista del punto 1 de este ejercicio, crea una nueva lista que contenga los últimos 20 elementos de esta misma lista ordenada.\n",
        "\n",
        "Importante: Utiliza dos ciclos for, uno anidado en otro.\n",
        "\n",
        "**No debes usar ningún método o función que ya esté programado en python que haga el ordenamiento**."
      ]
    },
    {
      "cell_type": "code",
      "execution_count": 27,
      "metadata": {
        "colab": {
          "base_uri": "https://localhost:8080/"
        },
        "id": "1_pVnBTF82D3",
        "outputId": "b64285ae-743f-47da-fd7b-258e804835a4"
      },
      "outputs": [
        {
          "output_type": "stream",
          "name": "stdout",
          "text": [
            "Lista ordenada de menor a mayor:\n",
            "[0, 1, 1, 1, 2, 2, 3, 3, 4, 5, 6, 6, 6, 11, 13, 16, 21, 24, 29, 30, 31, 45, 46, 49, 51, 61, 63, 84, 85, 100, 114, 115, 121, 121, 126, 129, 130, 158, 162, 168, 175, 193, 201, 208, 211, 219, 223, 225, 249, 314, 317, 342, 417, 443, 549, 573, 597, 626, 631, 650, 672, 678, 695, 715, 719, 789, 870, 917, 948, 955, 991, 1007, 1027, 1075, 1090, 1098, 1120, 1152, 1190, 1217, 1279, 1313, 1339, 1454, 1484, 1530, 1554, 1651, 1654, 1676, 1795, 1798, 1830, 1831, 1883, 1911, 1978, 2085, 2114, 2193, 2244, 2378, 2409, 2434, 2555, 2832, 2941, 2954, 2965, 3054, 3148, 3187, 3230, 3417, 3499, 3511, 3661, 3705, 3790, 3904, 3906, 4147, 4219, 4364, 4426, 4558, 4644, 4779, 4824, 4834, 4891, 5048, 5544, 5633, 5634, 5765, 5857, 6083, 6356, 6462, 6465, 6765, 7119, 7476, 7914, 8922, 8946, 9016, 9138, 9544, 9552, 10335, 10672, 10758, 10863, 10967, 11388, 12665, 12953, 12985, 12992, 13064, 13876, 14400, 14489, 14577, 16585, 21413, 21787, 22403, 22572, 24834, 25182, 26148, 26579, 28933, 29124, 29918, 32418, 32435, 33980, 39718, 41578, 42178, 42898, 48019, 48770, 66102, 67387, 77882, 83297, 119009, 200758, 309254, 335247]\n",
            "\n",
            "Los últimos 20 elementos de la lista ordenada:\n",
            "[28933, 29124, 29918, 32418, 32435, 33980, 39718, 41578, 42178, 42898, 48019, 48770, 66102, 67387, 77882, 83297, 119009, 200758, 309254, 335247]\n"
          ]
        }
      ],
      "source": [
        "# Código para el ejercicio 2\n",
        "# Ordenar la lista total_años de menor a mayor\n",
        "n = len(total_años)\n",
        "for i in range(n):\n",
        "    for j in range(0, n-i-1):\n",
        "        if total_años[j] > total_años[j+1]:\n",
        "\n",
        "            # Intercambiar los elementos si están en el orden incorrecto\n",
        "            total_años[j], total_años[j+1] = total_años[j+1], total_años[j]\n",
        "\n",
        "# Crear una nueva lista con los últimos 20 elementos de la lista ordenada\n",
        "ultimos_20_elementos = total_años[-20:]\n",
        "\n",
        "# Mostrar lista ordenada y últimos 20 elementos\n",
        "print(\"Lista ordenada de menor a mayor:\")\n",
        "print(total_años)\n",
        "\n",
        "print(\"\\nLos últimos 20 elementos de la lista ordenada:\")\n",
        "print(ultimos_20_elementos)"
      ]
    },
    {
      "cell_type": "markdown",
      "metadata": {
        "id": "VnxRcwcdXtaK"
      },
      "source": [
        "Vamos a graficar!"
      ]
    },
    {
      "cell_type": "markdown",
      "metadata": {
        "id": "CBtQbHWBQFqE"
      },
      "source": [
        "#**Ejercicio número 3**\n",
        "\n",
        "Gráfica los valores de la última lista que generaste"
      ]
    },
    {
      "cell_type": "code",
      "execution_count": 29,
      "metadata": {
        "id": "hj9cuqbD-KH8"
      },
      "outputs": [],
      "source": [
        "# Código para el ejercicio 3\n",
        "#Importar librerías necesarias para graficar\n",
        "%matplotlib inline\n",
        "\n",
        "import matplotlib as mpl\n",
        "import matplotlib.pyplot as plt"
      ]
    },
    {
      "cell_type": "code",
      "execution_count": 31,
      "metadata": {
        "colab": {
          "base_uri": "https://localhost:8080/"
        },
        "id": "eXI4chZO-gge",
        "outputId": "50ece148-ee5e-43f8-df1f-ba388154564b"
      },
      "outputs": [
        {
          "output_type": "stream",
          "name": "stdout",
          "text": [
            "['Solarize_Light2', '_classic_test_patch', '_mpl-gallery', '_mpl-gallery-nogrid', 'bmh', 'classic', 'dark_background', 'fast', 'fivethirtyeight', 'ggplot', 'grayscale', 'seaborn-v0_8', 'seaborn-v0_8-bright', 'seaborn-v0_8-colorblind', 'seaborn-v0_8-dark', 'seaborn-v0_8-dark-palette', 'seaborn-v0_8-darkgrid', 'seaborn-v0_8-deep', 'seaborn-v0_8-muted', 'seaborn-v0_8-notebook', 'seaborn-v0_8-paper', 'seaborn-v0_8-pastel', 'seaborn-v0_8-poster', 'seaborn-v0_8-talk', 'seaborn-v0_8-ticks', 'seaborn-v0_8-white', 'seaborn-v0_8-whitegrid', 'tableau-colorblind10']\n"
          ]
        }
      ],
      "source": [
        "#Estilo para tus gráficas\n",
        "print(plt.style.available)\n",
        "mpl.style.use(['ggplot']) #Seleccioné ggplot"
      ]
    },
    {
      "cell_type": "code",
      "execution_count": 37,
      "metadata": {
        "colab": {
          "base_uri": "https://localhost:8080/",
          "height": 477
        },
        "id": "0jCsEPx--iWu",
        "outputId": "be2ce99e-4831-4b56-fcfe-6d7aadd9410a"
      },
      "outputs": [
        {
          "output_type": "display_data",
          "data": {
            "text/plain": [
              "<Figure size 640x480 with 1 Axes>"
            ],
            "image/png": "[encoded data removed]"
          },
          "metadata": {}
        }
      ],
      "source": [
        "# Datos a graficar\n",
        "ultimos_20_elementos = [53799, 55653, 57015, 61005, 62292, 63609, 76018, 79089, 80144, 80550, 90177, 94575, 122585, 128605, 150160, 154866, 221310, 387680, 587285, 634060]\n",
        "\n",
        "# Establecer el estilo \"ggplot\"\n",
        "plt.style.use('ggplot')\n",
        "\n",
        "# Crear un gráfico de líneas con marcadores\n",
        "plt.plot(ultimos_20_elementos, \"ob--\", mfc=\"red\")\n",
        "\n",
        "# Agregar etiquetas al eje x y al eje y\n",
        "plt.xlabel('Max values')\n",
        "plt.ylabel('Número')\n",
        "\n",
        "# Título del gráfico\n",
        "plt.title(\"Mayor cantidad de inmigrantes entre 2001 y 2010\")\n",
        "\n",
        "# Mostrar el gráfico\n",
        "plt.show()"
      ]
    },
    {
      "cell_type": "markdown",
      "metadata": {
        "id": "bMAkLvoDQntb"
      },
      "source": [
        "#**Ejercicio número 4**\n",
        "\n",
        "1. Crea un diccionario que contenga las siguientes listas: Country, años del 2001 a 2010, Total (lista del ejercicio 1, punto número 4)\n",
        "\n",
        "2. A partir de tu diccionario, crea un nuevo dataframe que se llame df_new."
      ]
    },
    {
      "cell_type": "code",
      "execution_count": 40,
      "metadata": {
        "id": "bMkhOcgUGnGr"
      },
      "outputs": [],
      "source": [
        "# Código para el ejercicio 4\n",
        "diccionario_nuevo = {\n",
        "    'Country': lista_paises,\n",
        "    '2001': lista_2001,\n",
        "    '2002': lista_2002,\n",
        "    '2003': lista_2003,\n",
        "    '2004': lista_2004,\n",
        "    '2005': lista_2005,\n",
        "    '2006': lista_2006,\n",
        "    '2007': lista_2007,\n",
        "    '2008': lista_2008,\n",
        "    '2009': lista_2009,\n",
        "    '2010': lista_2010,\n",
        "    'Total': total_años\n",
        "}"
      ]
    },
    {
      "cell_type": "code",
      "execution_count": 41,
      "metadata": {
        "colab": {
          "base_uri": "https://localhost:8080/"
        },
        "id": "EjPsBESSH7m5",
        "outputId": "699564a2-ef8c-4612-976e-534544ff1ab6"
      },
      "outputs": [
        {
          "output_type": "stream",
          "name": "stdout",
          "text": [
            "            Country    2001  2002  2003  2004  2005  2006  2007  2008  2009  \\\n",
            "0       Afghanistan       0  3697  3479  2978  3436  3009  2652  2111  1746   \n",
            "1           Albania       1  1021   853  1450  1223   856   702   560   716   \n",
            "2           Algeria       1  3406  3072  3616  3626  4807  3623  4005  5393   \n",
            "3    American Samoa       1     0     0     0     0     1     0     0     0   \n",
            "4           Andorra       2     0     2     0     0     1     1     0     0   \n",
            "..              ...     ...   ...   ...   ...   ...   ...   ...   ...   ...   \n",
            "190        Viet Nam   83297  2291  1713  1816  1852  3153  2574  1784  2171   \n",
            "191  Western Sahara  119009     0     0     0     0     1     0     0     0   \n",
            "192           Yemen  200758   171   113   124   161   140   122   133   128   \n",
            "193          Zambia  309254    50    46    56    91    77    71    64    60   \n",
            "194        Zimbabwe  335247   191   669  1450   615   454   663   611   508   \n",
            "\n",
            "     2010   Total  \n",
            "0    1758       0  \n",
            "1     561       1  \n",
            "2    4752       1  \n",
            "3       0       1  \n",
            "4       0       2  \n",
            "..    ...     ...  \n",
            "190  1942   83297  \n",
            "191     0  119009  \n",
            "192   211  200758  \n",
            "193   102  309254  \n",
            "194   494  335247  \n",
            "\n",
            "[195 rows x 12 columns]\n"
          ]
        }
      ],
      "source": [
        "# Crear el DataFrame df_new a partir del diccionario\n",
        "df_new = pd.DataFrame(diccionario_nuevo)\n",
        "\n",
        "# Imprime el nuevo DataFrame\n",
        "print(df_new)"
      ]
    },
    {
      "cell_type": "markdown",
      "metadata": {
        "id": "v2VFAvgeN7Mv"
      },
      "source": [
        "#**Ejercicio número 5**\n",
        "Descubre los 5 países que más contribuyeron a la inmigración a Canadá de los años 2001 a 2010.\n",
        "Muestra los nombres de los países con el recuento de inmigrantes del total (número de inmigrantes del año 2001 a 2010)."
      ]
    },
    {
      "cell_type": "code",
      "execution_count": 46,
      "metadata": {
        "colab": {
          "base_uri": "https://localhost:8080/"
        },
        "id": "v9c2KDJNI4tb",
        "outputId": "b81c15cd-5503-4ee0-b166-a0470132241a"
      },
      "outputs": [
        {
          "output_type": "stream",
          "name": "stdout",
          "text": [
            "Los cinco países que más contribuyeron a la inmigración son:\n",
            "País: Zimbabwe, Inmigrantes Totales: 340902\n",
            "País: Zambia, Inmigrantes Totales: 309871\n",
            "País: China, Inmigrantes Totales: 298943\n",
            "País: India, Inmigrantes Totales: 279248\n",
            "País: Yemen, Inmigrantes Totales: 202061\n"
          ]
        }
      ],
      "source": [
        "# Código para el ejercicio 5\n",
        "# Calcular el total de inmigrantes por país para los años 2001 a 2010\n",
        "df_new['Total_2001_to_2010'] = df_new.loc[:, '2001':'2010'].sum(axis=1)\n",
        "\n",
        "# Ordenar el DataFrame por el total de inmigrantes en orden descendente\n",
        "df_new.sort_values(by='Total_2001_to_2010', ascending=False, inplace=True)\n",
        "\n",
        "# Obtener los países principales (5)\n",
        "top_5_countries = df_new.head(5)[['Country', 'Total_2001_to_2010']]\n",
        "\n",
        "# Mostrar los nombres de los países y el recuento de inmigrantes\n",
        "print(\"Los cinco países que más contribuyeron a la inmigración son:\")\n",
        "for index, row in top_5_countries.iterrows():\n",
        "    print(f\"País: {row['Country']}, Inmigrantes Totales: {row['Total_2001_to_2010']}\")"
      ]
    },
    {
      "cell_type": "markdown",
      "metadata": {
        "id": "ltw5wXtSUaID"
      },
      "source": [
        "#**Ejercicio número 6**\n",
        "\n",
        "1. Realiza una gráfica de pie que nos permita ver los valores de los países que más contribuyeron a la inmigración del 2001 al 2010.\n",
        "\n",
        "2. Etiqueta por país cada una de las fracciones de la gráfica."
      ]
    },
    {
      "cell_type": "code",
      "execution_count": 55,
      "metadata": {
        "colab": {
          "base_uri": "https://localhost:8080/",
          "height": 685
        },
        "id": "ZF35ND90CLL_",
        "outputId": "4d7f466a-0e47-4496-bfc1-e940c819bd40"
      },
      "outputs": [
        {
          "output_type": "display_data",
          "data": {
            "text/plain": [
              "<Figure size 800x800 with 1 Axes>"
            ],
            "image/png": "[encoded data removed]"
          },
          "metadata": {}
        }
      ],
      "source": [
        "# Código para el ejercicio 6\n",
        "# Datos de 5 países principales\n",
        "countries = top_5_countries['Country']\n",
        "immigrant_counts = top_5_countries['Total_2001_to_2010']\n",
        "\n",
        "# Colores de gráfica\n",
        "colors = ['lightcoral', 'lightblue', 'lightgreen', 'yellow', 'lightsalmon']\n",
        "\n",
        "# Etiquetas de los países\n",
        "labels = countries\n",
        "\n",
        "# Gráfica de pastel\n",
        "plt.figure(figsize=(8, 8))\n",
        "plt.pie(immigrant_counts, labels=labels, colors=colors, autopct='%1.1f%%', startangle=140)\n",
        "plt.title('Paises que contribuyeron a la inmigración (2001-2010)')\n",
        "plt.axis('equal')\n",
        "\n",
        "# Mostrar la gráfica\n",
        "plt.show()"
      ]
    },
    {
      "cell_type": "markdown",
      "metadata": {
        "id": "vOgKWDLzYttI"
      },
      "source": [
        "#**Ejercicio número 7**\n",
        "\n",
        "Realiza el código para que el usuario visualice los resultados.\n",
        "Para ello, realiza un menú con los siguientes indicadores.\n",
        "\n",
        "1. Bienvenida. Describe brevemente de qué trata el programa.\n",
        "\n",
        "2. Despliega el siguiente menú.\n",
        "\n",
        "  a. Tabla de los primeros 15 elementos de la lista del archivo original.\n",
        "\n",
        "  b. Gráfica que contiene unicamente los 20 valores más altos del total de inmigrantes por país que llegaron a Canadá entre el 2001 y el 2010.\n",
        "\n",
        "  c. Tabla del top 5 de los países de los inmigrantes que llegaron a Canadá entre el 2001 y el 2010.\n",
        "\n",
        "  d. Gráfica del top 5 de los países de los inmigrantes que llegaron a Canadá entre el 2001 y el 2010.\n",
        "\n",
        "  e. Salir.\n",
        "\n",
        "3. El usuario deberá seleccionar una opción (letra o palabra) del menú las veces que lo solicite. No debe importar si la letra es mayúscula o minúscula. Si selecciona una opción que no se encuentra en el menú, solicitar al usuario que seleccione otra opción del menú."
      ]
    },
    {
      "cell_type": "code",
      "execution_count": null,
      "metadata": {
        "colab": {
          "base_uri": "https://localhost:8080/"
        },
        "id": "zRON63qvcNHn",
        "outputId": "b41900d0-2532-4709-e470-eef0d08c7574"
      },
      "outputs": [
        {
          "metadata": {
            "tags": null
          },
          "name": "stdout",
          "output_type": "stream",
          "text": [
            "Bienvenido al Programa de Inmigración en Canadá del 2001 al 2010\n",
            "\n",
            "Menú:\n",
            "a. Tabla de los primeros 15 elementos de la lista del archivo original.\n",
            "b. Gráfica de los 20 valores más altos del total de inmigrantes por país (2001-2010).\n",
            "c. Tabla del top 5 de los países de los inmigrantes (2001-2010).\n",
            "d. Gráfica del top 5 de los países de los inmigrantes (2001-2010).\n",
            "e. Salir.\n"
          ]
        }
      ],
      "source": [
        "# Código para el ejercicio 7\n",
        "from tabulate import tabulate\n",
        "\n",
        "# Crear una columna que contenga la suma de inmigrantes de 2001 a 2010\n",
        "df_can['Total_2001_a_2010'] = df_can.loc[:, '2001':'2010'].sum(axis=1)\n",
        "\n",
        "# Función para mostrar la tabla de los primeros 15 elementos de la lista original\n",
        "def mostrar_tabla_15_elementos():\n",
        "    tabla = df_can.head(15)\n",
        "    tabla = tabla.reset_index(drop=True)  # Restablecer los índices para que comiencen desde 0\n",
        "    print(tabulate(tabla, headers='keys', tablefmt='grid'))\n",
        "\n",
        "# Función para mostrar la gráfica de los 20 valores más altos del total de inmigrantes\n",
        "def mostrar_grafica_20_valores_altos():\n",
        "    top_20_countries = df_can.nlargest(20, 'Total_2001_a_2010')\n",
        "    plt.figure(figsize=(10, 6))\n",
        "    plt.bar(top_20_countries['Country'], top_20_countries['Total_2001_a_2010'])\n",
        "    plt.xlabel('País')\n",
        "    plt.ylabel('Total de Inmigrantes (2001-2010)')\n",
        "    plt.title('Top 20 Países de Inmigración a Canadá (2001-2010)')\n",
        "    plt.xticks(rotation=90)\n",
        "    plt.show()\n",
        "\n",
        "# Función para mostrar la tabla del top 5 de los países de inmigrantes para el período de 2001 al 2010\n",
        "def mostrar_tabla_top_5_paises():\n",
        "    top_5_countries = df_can.nlargest(5, 'Total_2001_a_2010')\n",
        "    top_5_countries_2001_to_2010 = top_5_countries[['Country', 'Total_2001_a_2010']]\n",
        "    print(tabulate(top_5_countries_2001_to_2010, headers='keys', tablefmt='grid'))\n",
        "\n",
        "# Función para mostrar la gráfica del top 5 de los países de inmigrantes\n",
        "def mostrar_grafica_top_5_paises():\n",
        "    top_5_countries = df_can.nlargest(5, 'Total_2001_a_2010')\n",
        "    plt.figure(figsize=(8, 8))\n",
        "    plt.pie(top_5_countries['Total_2001_a_2010'],\n",
        "            labels=top_5_countries['Country'],\n",
        "            autopct='%1.1f%%',\n",
        "            startangle=140)\n",
        "    plt.title('Top 5 Países de Inmigración a Canadá (2001-2010)')\n",
        "    plt.axis('equal')\n",
        "    plt.show()\n",
        "\n",
        "# Menú principal\n",
        "def menu():\n",
        "    print(\"Bienvenido al Programa de Inmigración en Canadá del 2001 al 2010\")\n",
        "    while True:\n",
        "        print(\"\\nMenú:\")\n",
        "        print(\"a. Tabla de los primeros 15 elementos de la lista del archivo original.\")\n",
        "        print(\"b. Gráfica de los 20 valores más altos del total de inmigrantes por país (2001-2010).\")\n",
        "        print(\"c. Tabla del top 5 de los países de los inmigrantes (2001-2010).\")\n",
        "        print(\"d. Gráfica del top 5 de los países de los inmigrantes (2001-2010).\")\n",
        "        print(\"e. Salir.\")\n",
        "        opcion = input(\"Selecciona una opción (a/b/c/d/e): \").lower()\n",
        "\n",
        "        if opcion == 'a':\n",
        "            mostrar_tabla_15_elementos()\n",
        "        elif opcion == 'b':\n",
        "            mostrar_grafica_20_valores_altos()\n",
        "        elif opcion == 'c':\n",
        "            mostrar_tabla_top_5_paises()\n",
        "        elif opcion == 'd':\n",
        "            mostrar_grafica_top_5_paises()\n",
        "        elif opcion == 'e':\n",
        "            print(\"¡Hasta luego!\")\n",
        "            break\n",
        "        else:\n",
        "            print(\"Opción no válida. Por favor, selecciona una opción válida del menú.\")\n",
        "\n",
        "if __name__ == \"__main__\":\n",
        "    menu()"
      ]
    },
    {
      "cell_type": "markdown",
      "metadata": {
        "id": "_9XmiaFpYoeR"
      },
      "source": [
        "🙂 Gracias!"
      ]
    }
  ],
  "metadata": {
    "colab": {
      "provenance": []
    },
    "kernelspec": {
      "display_name": "Python 3",
      "name": "python3"
    },
    "language_info": {
      "name": "python"
    }
  },
  "nbformat": 4,
  "nbformat_minor": 0
}